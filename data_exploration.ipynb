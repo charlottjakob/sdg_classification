{
 "cells": [
  {
   "cell_type": "code",
   "execution_count": null,
   "metadata": {},
   "outputs": [],
   "source": [
    "! pip install plotly\n",
    "! pip install --upgrade nbformat"
   ]
  },
  {
   "cell_type": "code",
   "execution_count": null,
   "metadata": {},
   "outputs": [],
   "source": [
    "import pandas as pd\n",
    "import json\n",
    "from training.structure_source_data import combine_training_data\n",
    "from training.cleaning import clean_training_data\n",
    "from training.utils.encode_sdgs import encode_sdgs\n",
    "import matplotlib.pyplot as plt\n",
    "import os\n",
    "import plotly.express as px"
   ]
  },
  {
   "cell_type": "code",
   "execution_count": null,
   "metadata": {},
   "outputs": [],
   "source": [
    "# load data\n",
    "df = combine_training_data(True)\n",
    "df = clean_training_data(df)\n",
    "df = encode_sdgs(df, 'sdg', ',')\n",
    "\n",
    "df.to_csv('data/training_data.csv')\n",
    "print(df)"
   ]
  },
  {
   "cell_type": "code",
   "execution_count": null,
   "metadata": {},
   "outputs": [],
   "source": [
    "# testing data\n",
    "\n",
    "# load data\n",
    "df = pd.read_csv('/Users/charlottjakob/Documents/github_repos/sdg_classification/data/report_page_data.csv')\n",
    "df = clean_training_data(df)\n",
    "df = encode_sdgs(df, 'sdgs', ',')\n",
    "\n",
    "df.to_csv('data/testing_data.csv')\n",
    "print(df)"
   ]
  },
  {
   "cell_type": "code",
   "execution_count": null,
   "metadata": {},
   "outputs": [],
   "source": [
    "# print sdg counts\n",
    "\n",
    "sgd_value_counts = df.groupby('sdg')['text'].count().to_frame()\n",
    "sgd_value_counts['sdg'] = sgd_value_counts.index\n",
    "sgd_value_counts['sdg'] = sgd_value_counts['sdg'].apply(lambda x: str(x))\n",
    "# sgd_value_counts.reset_index(inplace=True, drop=True)\n",
    "sgd_value_counts['color'] = \"#9e9e9e\"\n",
    "\n",
    "fig = px.bar(sgd_value_counts, x='sdg', y='text', color_discrete_sequence = list(sgd_value_counts['color']))\n",
    "fig.show()"
   ]
  },
  {
   "cell_type": "markdown",
   "metadata": {},
   "source": [
    "Basic Plots:"
   ]
  },
  {
   "cell_type": "code",
   "execution_count": null,
   "metadata": {},
   "outputs": [],
   "source": [
    "## plot amount of words\n",
    "\n",
    "# prepare data\n",
    "df_str_len = df\n",
    "df_str_len['str_len'] = df_str_len['text'].apply(lambda x: len(x.split(\" \")))\n",
    "\n",
    "# set plot parameter\n",
    "fig = px.histogram(df_str_len, x='str_len')\n",
    "fig.show()\n"
   ]
  },
  {
   "cell_type": "code",
   "execution_count": null,
   "metadata": {},
   "outputs": [],
   "source": [
    "## plot amount of papers per sdg\n",
    "\n",
    "# prepare data\n",
    "scholar_data = pd.read_csv(\"data/scholar_data.csv\")\n",
    "scholar_data = scholar_data[scholar_data['abstract'].notna()]\n",
    "paper_count = scholar_data.groupby('sdg').count().reset_index()\n",
    "\n",
    "# set plot parameter\n",
    "fig = px.bar(paper_count, x='sdg', y='abstract')\n",
    "fig.show()\n"
   ]
  }
 ],
 "metadata": {
  "kernelspec": {
   "display_name": "Python 3 (ipykernel)",
   "language": "python",
   "name": "python3"
  },
  "language_info": {
   "codemirror_mode": {
    "name": "ipython",
    "version": 3
   },
   "file_extension": ".py",
   "mimetype": "text/x-python",
   "name": "python",
   "nbconvert_exporter": "python",
   "pygments_lexer": "ipython3",
   "version": "3.9.1"
  },
  "orig_nbformat": 2
 },
 "nbformat": 4,
 "nbformat_minor": 2
}